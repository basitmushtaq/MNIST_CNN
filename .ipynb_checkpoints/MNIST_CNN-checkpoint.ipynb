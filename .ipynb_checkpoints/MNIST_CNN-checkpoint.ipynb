{
 "cells": [
  {
   "cell_type": "code",
   "execution_count": 39,
   "id": "formal-ridge",
   "metadata": {},
   "outputs": [],
   "source": [
    "import numpy as np\n",
    "import tensorflow as tf\n",
    "from scipy.io import loadmat\n",
    "from sklearn.model_selection import train_test_split\n",
    "import keras"
   ]
  },
  {
   "cell_type": "code",
   "execution_count": 3,
   "id": "favorite-cause",
   "metadata": {},
   "outputs": [],
   "source": [
    "mnist = loadmat(\"/home/basit/Documents/mnist-original.mat\")\n",
    "mnist_data = mnist[\"data\"].T\n",
    "mnist_label = mnist[\"label\"][0]"
   ]
  },
  {
   "cell_type": "code",
   "execution_count": 24,
   "id": "documentary-group",
   "metadata": {},
   "outputs": [],
   "source": [
    "#reshaping the data\n",
    "\n",
    "mnist_data= mnist_data.reshape(-1,28,28,1)\n",
    "mnist_label= mnist_label.reshape(-1,1)"
   ]
  },
  {
   "cell_type": "code",
   "execution_count": 42,
   "id": "filled-middle",
   "metadata": {},
   "outputs": [],
   "source": [
    "#split train-test \n",
    "X_train, X_test, y_train, y_test = train_test_split(mnist_data,mnist_label, test_size=0.2)"
   ]
  },
  {
   "cell_type": "code",
   "execution_count": 33,
   "id": "trying-dependence",
   "metadata": {},
   "outputs": [],
   "source": [
    "from keras import layers, models\n",
    "\n",
    "dropout_rate=0.2\n",
    "\n",
    "model= models.Sequential()\n",
    "\n",
    "model.add(layers.Conv2D(128,(3,3) , activation='relu', input_shape=(28,28,1)))\n",
    "model.add(layers.MaxPooling2D(2,2))\n",
    "model.add(layers.Dropout(dropout_rate))\n",
    "model.add(layers.Conv2D(64,(3,3), activation='relu'))\n",
    "model.add(layers.Conv2D(32,(3,3),activation='relu'))\n",
    "model.add(layers.MaxPooling2D(2,2))\n",
    "model.add(layers.Dropout(dropout_rate))\n",
    "model.add(layers.Conv2D(16,(3,3), activation='relu'))\n",
    "model.add(layers.MaxPooling2D(2,2))\n",
    "model.add(layers.Dropout(dropout_rate))\n",
    "model.add(layers.Flatten())\n",
    "model.add(layers.Dense(150, activation='relu'))\n",
    "model.add(layers.Dropout(dropout_rate))\n",
    "model.add(layers.Dense(10,activation='softmax'))\n"
   ]
  },
  {
   "cell_type": "code",
   "execution_count": 34,
   "id": "peripheral-premium",
   "metadata": {},
   "outputs": [
    {
     "name": "stdout",
     "output_type": "stream",
     "text": [
      "Model: \"sequential\"\n",
      "_________________________________________________________________\n",
      "Layer (type)                 Output Shape              Param #   \n",
      "=================================================================\n",
      "conv2d (Conv2D)              (None, 26, 26, 128)       1280      \n",
      "_________________________________________________________________\n",
      "max_pooling2d (MaxPooling2D) (None, 13, 13, 128)       0         \n",
      "_________________________________________________________________\n",
      "dropout (Dropout)            (None, 13, 13, 128)       0         \n",
      "_________________________________________________________________\n",
      "conv2d_1 (Conv2D)            (None, 11, 11, 64)        73792     \n",
      "_________________________________________________________________\n",
      "conv2d_2 (Conv2D)            (None, 9, 9, 32)          18464     \n",
      "_________________________________________________________________\n",
      "max_pooling2d_1 (MaxPooling2 (None, 4, 4, 32)          0         \n",
      "_________________________________________________________________\n",
      "dropout_1 (Dropout)          (None, 4, 4, 32)          0         \n",
      "_________________________________________________________________\n",
      "conv2d_3 (Conv2D)            (None, 2, 2, 16)          4624      \n",
      "_________________________________________________________________\n",
      "max_pooling2d_2 (MaxPooling2 (None, 1, 1, 16)          0         \n",
      "_________________________________________________________________\n",
      "dropout_2 (Dropout)          (None, 1, 1, 16)          0         \n",
      "_________________________________________________________________\n",
      "flatten (Flatten)            (None, 16)                0         \n",
      "_________________________________________________________________\n",
      "dense (Dense)                (None, 150)               2550      \n",
      "_________________________________________________________________\n",
      "dropout_3 (Dropout)          (None, 150)               0         \n",
      "_________________________________________________________________\n",
      "dense_1 (Dense)              (None, 10)                1510      \n",
      "=================================================================\n",
      "Total params: 102,220\n",
      "Trainable params: 102,220\n",
      "Non-trainable params: 0\n",
      "_________________________________________________________________\n"
     ]
    }
   ],
   "source": [
    "model.summary()"
   ]
  },
  {
   "cell_type": "code",
   "execution_count": 44,
   "id": "caring-entrepreneur",
   "metadata": {},
   "outputs": [],
   "source": [
    "model.compile(optimizer='adam', loss=keras.losses.SparseCategoricalCrossentropy(),metrics='accuracy')"
   ]
  },
  {
   "cell_type": "code",
   "execution_count": 45,
   "id": "circular-czech",
   "metadata": {},
   "outputs": [
    {
     "name": "stdout",
     "output_type": "stream",
     "text": [
      "Epoch 1/50\n",
      "1750/1750 [==============================] - 26s 7ms/step - loss: 1.3287 - accuracy: 0.5885 - val_loss: 0.1195 - val_accuracy: 0.9662\n",
      "Epoch 2/50\n",
      "1750/1750 [==============================] - 11s 6ms/step - loss: 0.2506 - accuracy: 0.9239 - val_loss: 0.0925 - val_accuracy: 0.9736\n",
      "Epoch 3/50\n",
      "1750/1750 [==============================] - 11s 6ms/step - loss: 0.1849 - accuracy: 0.9425 - val_loss: 0.0799 - val_accuracy: 0.9763\n",
      "Epoch 4/50\n",
      "1750/1750 [==============================] - 11s 6ms/step - loss: 0.1646 - accuracy: 0.9507 - val_loss: 0.0751 - val_accuracy: 0.9800\n",
      "Epoch 5/50\n",
      "1750/1750 [==============================] - 11s 6ms/step - loss: 0.1386 - accuracy: 0.9600 - val_loss: 0.0710 - val_accuracy: 0.9798\n",
      "Epoch 6/50\n",
      "1750/1750 [==============================] - 11s 6ms/step - loss: 0.1434 - accuracy: 0.9586 - val_loss: 0.0654 - val_accuracy: 0.9827\n",
      "Epoch 7/50\n",
      "1750/1750 [==============================] - 11s 6ms/step - loss: 0.1255 - accuracy: 0.9635 - val_loss: 0.0581 - val_accuracy: 0.9832\n",
      "Epoch 8/50\n",
      "1750/1750 [==============================] - 11s 6ms/step - loss: 0.1201 - accuracy: 0.9647 - val_loss: 0.0547 - val_accuracy: 0.9852\n",
      "Epoch 9/50\n",
      "1750/1750 [==============================] - 11s 6ms/step - loss: 0.1093 - accuracy: 0.9685 - val_loss: 0.0494 - val_accuracy: 0.9863\n",
      "Epoch 10/50\n",
      "1750/1750 [==============================] - 11s 6ms/step - loss: 0.1139 - accuracy: 0.9671 - val_loss: 0.0516 - val_accuracy: 0.9854\n",
      "Epoch 11/50\n",
      "1750/1750 [==============================] - 12s 7ms/step - loss: 0.1070 - accuracy: 0.9689 - val_loss: 0.0526 - val_accuracy: 0.9854\n",
      "Epoch 12/50\n",
      "1750/1750 [==============================] - 11s 6ms/step - loss: 0.1138 - accuracy: 0.9671 - val_loss: 0.0605 - val_accuracy: 0.9843\n",
      "Epoch 13/50\n",
      "1750/1750 [==============================] - 11s 6ms/step - loss: 0.1064 - accuracy: 0.9687 - val_loss: 0.0557 - val_accuracy: 0.9850\n",
      "Epoch 14/50\n",
      "1750/1750 [==============================] - 11s 7ms/step - loss: 0.1072 - accuracy: 0.9687 - val_loss: 0.0488 - val_accuracy: 0.9868\n",
      "Epoch 15/50\n",
      "1750/1750 [==============================] - 11s 6ms/step - loss: 0.1010 - accuracy: 0.9703 - val_loss: 0.0494 - val_accuracy: 0.9866\n",
      "Epoch 16/50\n",
      "1750/1750 [==============================] - 11s 6ms/step - loss: 0.0991 - accuracy: 0.9714 - val_loss: 0.0557 - val_accuracy: 0.9853\n",
      "Epoch 17/50\n",
      "1750/1750 [==============================] - 11s 6ms/step - loss: 0.0994 - accuracy: 0.9707 - val_loss: 0.0554 - val_accuracy: 0.9844\n",
      "Epoch 18/50\n",
      "1750/1750 [==============================] - 11s 6ms/step - loss: 0.1085 - accuracy: 0.9691 - val_loss: 0.0617 - val_accuracy: 0.9830\n",
      "Epoch 19/50\n",
      "1750/1750 [==============================] - 11s 6ms/step - loss: 0.0954 - accuracy: 0.9729 - val_loss: 0.0532 - val_accuracy: 0.9875\n",
      "Epoch 20/50\n",
      "1750/1750 [==============================] - 11s 6ms/step - loss: 0.0998 - accuracy: 0.9708 - val_loss: 0.0593 - val_accuracy: 0.9846\n",
      "Epoch 21/50\n",
      "1750/1750 [==============================] - 11s 6ms/step - loss: 0.1016 - accuracy: 0.9714 - val_loss: 0.0567 - val_accuracy: 0.9856\n",
      "Epoch 22/50\n",
      "1750/1750 [==============================] - 11s 6ms/step - loss: 0.1005 - accuracy: 0.9714 - val_loss: 0.0469 - val_accuracy: 0.9880\n",
      "Epoch 23/50\n",
      "1750/1750 [==============================] - 11s 6ms/step - loss: 0.0987 - accuracy: 0.9720 - val_loss: 0.0581 - val_accuracy: 0.9849\n",
      "Epoch 24/50\n",
      "1750/1750 [==============================] - 11s 6ms/step - loss: 0.1016 - accuracy: 0.9711 - val_loss: 0.0505 - val_accuracy: 0.9865\n",
      "Epoch 25/50\n",
      "1750/1750 [==============================] - 11s 6ms/step - loss: 0.0951 - accuracy: 0.9728 - val_loss: 0.0490 - val_accuracy: 0.9870\n",
      "Epoch 26/50\n",
      "1750/1750 [==============================] - 11s 6ms/step - loss: 0.0981 - accuracy: 0.9729 - val_loss: 0.0737 - val_accuracy: 0.9808\n",
      "Epoch 27/50\n",
      "1750/1750 [==============================] - 12s 7ms/step - loss: 0.0926 - accuracy: 0.9737 - val_loss: 0.0583 - val_accuracy: 0.9859\n",
      "Epoch 28/50\n",
      "1750/1750 [==============================] - 11s 6ms/step - loss: 0.0960 - accuracy: 0.9728 - val_loss: 0.0509 - val_accuracy: 0.9866\n",
      "Epoch 29/50\n",
      "1750/1750 [==============================] - 11s 6ms/step - loss: 0.0986 - accuracy: 0.9734 - val_loss: 0.0537 - val_accuracy: 0.9861\n",
      "Epoch 30/50\n",
      "1750/1750 [==============================] - 11s 6ms/step - loss: 0.1005 - accuracy: 0.9712 - val_loss: 0.0523 - val_accuracy: 0.9858\n",
      "Epoch 31/50\n",
      "1750/1750 [==============================] - 11s 6ms/step - loss: 0.0972 - accuracy: 0.9730 - val_loss: 0.0453 - val_accuracy: 0.9886\n",
      "Epoch 32/50\n",
      "1750/1750 [==============================] - 11s 7ms/step - loss: 0.1006 - accuracy: 0.9723 - val_loss: 0.0495 - val_accuracy: 0.9872\n",
      "Epoch 33/50\n",
      "1750/1750 [==============================] - 11s 6ms/step - loss: 0.0950 - accuracy: 0.9733 - val_loss: 0.0475 - val_accuracy: 0.9878\n",
      "Epoch 34/50\n",
      "1750/1750 [==============================] - 11s 6ms/step - loss: 0.0974 - accuracy: 0.9726 - val_loss: 0.0544 - val_accuracy: 0.9861\n",
      "Epoch 35/50\n",
      "1750/1750 [==============================] - 11s 6ms/step - loss: 0.0935 - accuracy: 0.9743 - val_loss: 0.0460 - val_accuracy: 0.9890\n",
      "Epoch 36/50\n",
      "1750/1750 [==============================] - 11s 6ms/step - loss: 0.0933 - accuracy: 0.9744 - val_loss: 0.0529 - val_accuracy: 0.9869\n",
      "Epoch 37/50\n",
      "1750/1750 [==============================] - 11s 7ms/step - loss: 0.1015 - accuracy: 0.9738 - val_loss: 0.0475 - val_accuracy: 0.9885\n",
      "Epoch 38/50\n",
      "1750/1750 [==============================] - 11s 6ms/step - loss: 0.0960 - accuracy: 0.9740 - val_loss: 0.0563 - val_accuracy: 0.9845\n",
      "Epoch 39/50\n",
      "1750/1750 [==============================] - 11s 7ms/step - loss: 0.0918 - accuracy: 0.9757 - val_loss: 0.0523 - val_accuracy: 0.9856\n",
      "Epoch 40/50\n",
      "1750/1750 [==============================] - 11s 7ms/step - loss: 0.0936 - accuracy: 0.9736 - val_loss: 0.0547 - val_accuracy: 0.9860\n",
      "Epoch 41/50\n",
      "1750/1750 [==============================] - 11s 6ms/step - loss: 0.0963 - accuracy: 0.9737 - val_loss: 0.0508 - val_accuracy: 0.9884\n",
      "Epoch 42/50\n",
      "1750/1750 [==============================] - 11s 6ms/step - loss: 0.0882 - accuracy: 0.9765 - val_loss: 0.0541 - val_accuracy: 0.9845\n",
      "Epoch 43/50\n",
      "1750/1750 [==============================] - 11s 6ms/step - loss: 0.0970 - accuracy: 0.9736 - val_loss: 0.0480 - val_accuracy: 0.9868\n",
      "Epoch 44/50\n",
      "1750/1750 [==============================] - 11s 6ms/step - loss: 0.0911 - accuracy: 0.9754 - val_loss: 0.0510 - val_accuracy: 0.9869\n",
      "Epoch 45/50\n",
      "1750/1750 [==============================] - 11s 7ms/step - loss: 0.0968 - accuracy: 0.9739 - val_loss: 0.0432 - val_accuracy: 0.9886\n",
      "Epoch 46/50\n",
      "1750/1750 [==============================] - 11s 6ms/step - loss: 0.1037 - accuracy: 0.9717 - val_loss: 0.0488 - val_accuracy: 0.9873\n",
      "Epoch 47/50\n",
      "1750/1750 [==============================] - 11s 7ms/step - loss: 0.0862 - accuracy: 0.9762 - val_loss: 0.0560 - val_accuracy: 0.9849\n",
      "Epoch 48/50\n",
      "1750/1750 [==============================] - 11s 7ms/step - loss: 0.1006 - accuracy: 0.9739 - val_loss: 0.0534 - val_accuracy: 0.9872\n",
      "Epoch 49/50\n",
      "1750/1750 [==============================] - 11s 6ms/step - loss: 0.0882 - accuracy: 0.9747 - val_loss: 0.0537 - val_accuracy: 0.9866\n",
      "Epoch 50/50\n",
      "1750/1750 [==============================] - 11s 7ms/step - loss: 0.0923 - accuracy: 0.9743 - val_loss: 0.0493 - val_accuracy: 0.9874\n"
     ]
    }
   ],
   "source": [
    "history=model.fit(X_train,y_train,epochs=50,validation_data=(X_test,y_test))"
   ]
  },
  {
   "cell_type": "code",
   "execution_count": 57,
   "id": "sorted-thumbnail",
   "metadata": {},
   "outputs": [
    {
     "data": {
      "text/plain": [
       "<matplotlib.legend.Legend at 0x7efb823caa90>"
      ]
     },
     "execution_count": 57,
     "metadata": {},
     "output_type": "execute_result"
    },
    {
     "data": {
      "image/png": "[encoded data removed]",
      "text/plain": [
       "<Figure size 432x288 with 1 Axes>"
      ]
     },
     "metadata": {
      "needs_background": "light"
     },
     "output_type": "display_data"
    }
   ],
   "source": [
    "import matplotlib.pyplot as plt\n",
    "\n",
    "plt.plot(history.history['accuracy'])\n",
    "plt.plot(history.history['val_accuracy'])\n",
    "plt.xlabel('Epoch')\n",
    "plt.ylabel('accuracy')\n",
    "plt.legend(['accuracy', 'val_accuracy'],loc='lower right')"
   ]
  },
  {
   "cell_type": "code",
   "execution_count": null,
   "id": "formal-engine",
   "metadata": {},
   "outputs": [],
   "source": []
  }
 ],
 "metadata": {
  "kernelspec": {
   "display_name": "Python 3",
   "language": "python",
   "name": "python3"
  },
  "language_info": {
   "codemirror_mode": {
    "name": "ipython",
    "version": 3
   },
   "file_extension": ".py",
   "mimetype": "text/x-python",
   "name": "python",
   "nbconvert_exporter": "python",
   "pygments_lexer": "ipython3",
   "version": "3.8.8"
  }
 },
 "nbformat": 4,
 "nbformat_minor": 5
}
