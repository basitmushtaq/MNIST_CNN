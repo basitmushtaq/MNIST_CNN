{
 "cells": [
  {
   "cell_type": "code",
   "execution_count": 2,
   "id": "formal-ridge",
   "metadata": {},
   "outputs": [],
   "source": [
    "import numpy as np\n",
    "import tensorflow as tf\n",
    "from scipy.io import loadmat\n"
   ]
  },
  {
   "cell_type": "code",
   "execution_count": 3,
   "id": "favorite-cause",
   "metadata": {},
   "outputs": [],
   "source": [
    "mnist = loadmat(\"/home/basit/Documents/mnist-original.mat\")\n",
    "mnist_data = mnist[\"data\"].T\n",
    "mnist_label = mnist[\"label\"][0]"
   ]
  },
  {
   "cell_type": "code",
   "execution_count": 24,
   "id": "injured-paintball",
   "metadata": {},
   "outputs": [],
   "source": [
    "#reshaping the data\n",
    "\n",
    "mnist_data= mnist_data.reshape(-1,28,28,1)\n",
    "mnist_label= mnist_label.reshape(-1,1)"
   ]
  }
 ],
 "metadata": {
  "kernelspec": {
   "display_name": "Python 3",
   "language": "python",
   "name": "python3"
  },
  "language_info": {
   "codemirror_mode": {
    "name": "ipython",
    "version": 3
   },
   "file_extension": ".py",
   "mimetype": "text/x-python",
   "name": "python",
   "nbconvert_exporter": "python",
   "pygments_lexer": "ipython3",
   "version": "3.8.8"
  }
 },
 "nbformat": 4,
 "nbformat_minor": 5
}
