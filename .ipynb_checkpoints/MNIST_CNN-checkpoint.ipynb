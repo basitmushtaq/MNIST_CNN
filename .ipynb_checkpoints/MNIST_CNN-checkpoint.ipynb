{
 "cells": [
  {
   "cell_type": "code",
   "execution_count": 1,
   "id": "formal-ridge",
   "metadata": {},
   "outputs": [],
   "source": [
    "import numpy as np\n",
    "import tensorflow as tf\n",
    "from scipy.io import loadmat\n",
    "from sklearn.model_selection import train_test_split\n",
    "import keras"
   ]
  },
  {
   "cell_type": "code",
   "execution_count": 2,
   "id": "favorite-cause",
   "metadata": {},
   "outputs": [],
   "source": [
    "from mnist import MNIST\n",
    "mndata = MNIST('/home/basit/Documents/samples')\n",
    "X_train, y_train = mndata.load_training()\n",
    "X_test, y_test= mndata.load_testing()\n",
    "X_train=np.array(X_train).astype(np.float)\n",
    "X_test=np.array(X_test).astype(np.float)\n",
    "y_train=np.array(y_train).astype(np.float)\n",
    "y_test=np.array(y_test).astype(np.float)"
   ]
  },
  {
   "cell_type": "code",
   "execution_count": 3,
   "id": "documentary-group",
   "metadata": {},
   "outputs": [],
   "source": [
    "#reshaping the data\n",
    "\n",
    "X_train= X_train.reshape(-1,28,28,1)\n",
    "X_test= X_test.reshape(-1,28,28,1)\n",
    "y_train= y_train.reshape(-1,1)\n",
    "y_test= y_test.reshape(-1,1)"
   ]
  },
  {
   "cell_type": "code",
   "execution_count": null,
   "id": "filled-middle",
   "metadata": {},
   "outputs": [],
   "source": []
  },
  {
   "cell_type": "code",
   "execution_count": 9,
   "id": "trying-dependence",
   "metadata": {},
   "outputs": [],
   "source": [
    "from keras import layers, models\n",
    "\n",
    "dropout_rate=0.2\n",
    "\n",
    "model= models.Sequential()\n",
    "\n",
    "model.add(layers.Conv2D(128,(3,3) , activation='relu', input_shape=(28,28,1)))\n",
    "model.add(layers.MaxPooling2D(2,2))\n",
    "model.add(layers.Dropout(dropout_rate))\n",
    "model.add(layers.Conv2D(64,(3,3), activation='relu'))\n",
    "model.add(layers.Conv2D(32,(3,3),activation='relu'))\n",
    "model.add(layers.MaxPooling2D(2,2))\n",
    "#model.add(layers.Dropout(dropout_rate))\n",
    "model.add(layers.Conv2D(16,(3,3), activation='relu'))\n",
    "model.add(layers.MaxPooling2D(2,2))\n",
    "model.add(layers.Dropout(dropout_rate))\n",
    "model.add(layers.Flatten())\n",
    "model.add(layers.Dense(150, activation='relu'))\n",
    "#model.add(layers.Dropout(dropout_rate))\n",
    "model.add(layers.Dense(10,activation='softmax'))\n"
   ]
  },
  {
   "cell_type": "code",
   "execution_count": 5,
   "id": "peripheral-premium",
   "metadata": {},
   "outputs": [
    {
     "name": "stdout",
     "output_type": "stream",
     "text": [
      "Model: \"sequential\"\n",
      "_________________________________________________________________\n",
      "Layer (type)                 Output Shape              Param #   \n",
      "=================================================================\n",
      "conv2d (Conv2D)              (None, 26, 26, 128)       1280      \n",
      "_________________________________________________________________\n",
      "max_pooling2d (MaxPooling2D) (None, 13, 13, 128)       0         \n",
      "_________________________________________________________________\n",
      "conv2d_1 (Conv2D)            (None, 11, 11, 64)        73792     \n",
      "_________________________________________________________________\n",
      "conv2d_2 (Conv2D)            (None, 9, 9, 32)          18464     \n",
      "_________________________________________________________________\n",
      "max_pooling2d_1 (MaxPooling2 (None, 4, 4, 32)          0         \n",
      "_________________________________________________________________\n",
      "conv2d_3 (Conv2D)            (None, 2, 2, 16)          4624      \n",
      "_________________________________________________________________\n",
      "max_pooling2d_2 (MaxPooling2 (None, 1, 1, 16)          0         \n",
      "_________________________________________________________________\n",
      "flatten (Flatten)            (None, 16)                0         \n",
      "_________________________________________________________________\n",
      "dense (Dense)                (None, 150)               2550      \n",
      "_________________________________________________________________\n",
      "dense_1 (Dense)              (None, 10)                1510      \n",
      "=================================================================\n",
      "Total params: 102,220\n",
      "Trainable params: 102,220\n",
      "Non-trainable params: 0\n",
      "_________________________________________________________________\n"
     ]
    }
   ],
   "source": [
    "model.summary()"
   ]
  },
  {
   "cell_type": "code",
   "execution_count": 6,
   "id": "caring-entrepreneur",
   "metadata": {},
   "outputs": [],
   "source": [
    "model.compile(optimizer='adam', loss=keras.losses.SparseCategoricalCrossentropy(),metrics='accuracy')"
   ]
  },
  {
   "cell_type": "code",
   "execution_count": 7,
   "id": "circular-czech",
   "metadata": {},
   "outputs": [
    {
     "name": "stdout",
     "output_type": "stream",
     "text": [
      "Epoch 1/50\n",
      "1875/1875 [==============================] - 13s 6ms/step - loss: 0.6051 - accuracy: 0.8156 - val_loss: 0.0824 - val_accuracy: 0.9746\n",
      "Epoch 2/50\n",
      "1875/1875 [==============================] - 10s 6ms/step - loss: 0.0912 - accuracy: 0.9725 - val_loss: 0.0743 - val_accuracy: 0.9780\n",
      "Epoch 3/50\n",
      "1875/1875 [==============================] - 10s 5ms/step - loss: 0.0655 - accuracy: 0.9809 - val_loss: 0.0631 - val_accuracy: 0.9810\n",
      "Epoch 4/50\n",
      "1875/1875 [==============================] - 11s 6ms/step - loss: 0.0565 - accuracy: 0.9834 - val_loss: 0.0540 - val_accuracy: 0.9843\n",
      "Epoch 5/50\n",
      "1875/1875 [==============================] - 10s 5ms/step - loss: 0.0465 - accuracy: 0.9851 - val_loss: 0.0415 - val_accuracy: 0.9865\n",
      "Epoch 6/50\n",
      "1875/1875 [==============================] - 10s 6ms/step - loss: 0.0384 - accuracy: 0.9886 - val_loss: 0.0484 - val_accuracy: 0.9854\n",
      "Epoch 7/50\n",
      "1875/1875 [==============================] - 11s 6ms/step - loss: 0.0315 - accuracy: 0.9900 - val_loss: 0.0413 - val_accuracy: 0.9874\n",
      "Epoch 8/50\n",
      "1875/1875 [==============================] - 10s 5ms/step - loss: 0.0330 - accuracy: 0.9899 - val_loss: 0.0554 - val_accuracy: 0.9845\n",
      "Epoch 9/50\n",
      "1875/1875 [==============================] - 10s 6ms/step - loss: 0.0264 - accuracy: 0.9921 - val_loss: 0.0442 - val_accuracy: 0.9868\n",
      "Epoch 10/50\n",
      "1875/1875 [==============================] - 11s 6ms/step - loss: 0.0278 - accuracy: 0.9919 - val_loss: 0.0410 - val_accuracy: 0.9888\n",
      "Epoch 11/50\n",
      "1875/1875 [==============================] - 11s 6ms/step - loss: 0.0237 - accuracy: 0.9931 - val_loss: 0.0330 - val_accuracy: 0.9910\n",
      "Epoch 12/50\n",
      "1875/1875 [==============================] - 10s 6ms/step - loss: 0.0231 - accuracy: 0.9927 - val_loss: 0.0458 - val_accuracy: 0.9867\n",
      "Epoch 13/50\n",
      "1875/1875 [==============================] - 10s 6ms/step - loss: 0.0193 - accuracy: 0.9938 - val_loss: 0.0559 - val_accuracy: 0.9871\n",
      "Epoch 14/50\n",
      "1875/1875 [==============================] - 10s 6ms/step - loss: 0.0229 - accuracy: 0.9932 - val_loss: 0.0412 - val_accuracy: 0.9893\n",
      "Epoch 15/50\n",
      "1875/1875 [==============================] - 10s 6ms/step - loss: 0.0191 - accuracy: 0.9943 - val_loss: 0.0567 - val_accuracy: 0.9859\n",
      "Epoch 16/50\n",
      "1875/1875 [==============================] - 10s 6ms/step - loss: 0.0217 - accuracy: 0.9936 - val_loss: 0.0392 - val_accuracy: 0.9897\n",
      "Epoch 17/50\n",
      "1875/1875 [==============================] - 10s 6ms/step - loss: 0.0195 - accuracy: 0.9939 - val_loss: 0.0595 - val_accuracy: 0.9872\n",
      "Epoch 18/50\n",
      "1875/1875 [==============================] - 10s 6ms/step - loss: 0.0206 - accuracy: 0.9942 - val_loss: 0.0524 - val_accuracy: 0.9879\n",
      "Epoch 19/50\n",
      "1875/1875 [==============================] - 10s 6ms/step - loss: 0.0221 - accuracy: 0.9937 - val_loss: 0.0554 - val_accuracy: 0.9894\n",
      "Epoch 20/50\n",
      "1875/1875 [==============================] - 11s 6ms/step - loss: 0.0176 - accuracy: 0.9949 - val_loss: 0.0618 - val_accuracy: 0.9875\n",
      "Epoch 21/50\n",
      "1875/1875 [==============================] - 10s 6ms/step - loss: 0.0186 - accuracy: 0.9948 - val_loss: 0.0394 - val_accuracy: 0.9907\n",
      "Epoch 22/50\n",
      "1875/1875 [==============================] - 11s 6ms/step - loss: 0.0164 - accuracy: 0.9949 - val_loss: 0.0562 - val_accuracy: 0.9891\n",
      "Epoch 23/50\n",
      "1875/1875 [==============================] - 10s 6ms/step - loss: 0.0193 - accuracy: 0.9951 - val_loss: 0.0580 - val_accuracy: 0.9885\n",
      "Epoch 24/50\n",
      "1875/1875 [==============================] - 10s 6ms/step - loss: 0.0190 - accuracy: 0.9948 - val_loss: 0.0547 - val_accuracy: 0.9883\n",
      "Epoch 25/50\n",
      "1875/1875 [==============================] - 10s 6ms/step - loss: 0.0140 - accuracy: 0.9963 - val_loss: 0.0840 - val_accuracy: 0.9842\n",
      "Epoch 26/50\n",
      "1875/1875 [==============================] - 10s 6ms/step - loss: 0.0178 - accuracy: 0.9950 - val_loss: 0.0522 - val_accuracy: 0.9904\n",
      "Epoch 27/50\n",
      "1875/1875 [==============================] - 11s 6ms/step - loss: 0.0177 - accuracy: 0.9956 - val_loss: 0.0609 - val_accuracy: 0.9877\n",
      "Epoch 28/50\n",
      "1875/1875 [==============================] - 10s 6ms/step - loss: 0.0147 - accuracy: 0.9960 - val_loss: 0.0781 - val_accuracy: 0.9875\n",
      "Epoch 29/50\n",
      "1875/1875 [==============================] - 10s 6ms/step - loss: 0.0147 - accuracy: 0.9959 - val_loss: 0.0557 - val_accuracy: 0.9899\n",
      "Epoch 30/50\n",
      "1875/1875 [==============================] - 11s 6ms/step - loss: 0.0179 - accuracy: 0.9956 - val_loss: 0.0622 - val_accuracy: 0.9906\n",
      "Epoch 31/50\n",
      "1875/1875 [==============================] - 10s 5ms/step - loss: 0.0144 - accuracy: 0.9962 - val_loss: 0.0617 - val_accuracy: 0.9897\n",
      "Epoch 32/50\n",
      "1875/1875 [==============================] - 10s 6ms/step - loss: 0.0129 - accuracy: 0.9960 - val_loss: 0.0849 - val_accuracy: 0.9877\n",
      "Epoch 33/50\n",
      "1875/1875 [==============================] - 10s 5ms/step - loss: 0.0122 - accuracy: 0.9970 - val_loss: 0.0882 - val_accuracy: 0.9877\n",
      "Epoch 34/50\n",
      "1875/1875 [==============================] - 11s 6ms/step - loss: 0.0148 - accuracy: 0.9958 - val_loss: 0.0547 - val_accuracy: 0.9896\n",
      "Epoch 35/50\n",
      "1875/1875 [==============================] - 10s 6ms/step - loss: 0.0177 - accuracy: 0.9958 - val_loss: 0.0489 - val_accuracy: 0.9908\n",
      "Epoch 36/50\n",
      "1875/1875 [==============================] - 11s 6ms/step - loss: 0.0098 - accuracy: 0.9975 - val_loss: 0.0615 - val_accuracy: 0.9902\n",
      "Epoch 37/50\n",
      "1875/1875 [==============================] - 11s 6ms/step - loss: 0.0171 - accuracy: 0.9959 - val_loss: 0.0585 - val_accuracy: 0.9906\n",
      "Epoch 38/50\n",
      "1875/1875 [==============================] - 11s 6ms/step - loss: 0.0103 - accuracy: 0.9973 - val_loss: 0.0841 - val_accuracy: 0.9872\n",
      "Epoch 39/50\n",
      "1875/1875 [==============================] - 10s 6ms/step - loss: 0.0146 - accuracy: 0.9969 - val_loss: 0.0731 - val_accuracy: 0.9880\n",
      "Epoch 40/50\n",
      "1875/1875 [==============================] - 11s 6ms/step - loss: 0.0154 - accuracy: 0.9962 - val_loss: 0.0810 - val_accuracy: 0.9900\n",
      "Epoch 41/50\n",
      "1875/1875 [==============================] - 11s 6ms/step - loss: 0.0158 - accuracy: 0.9964 - val_loss: 0.0900 - val_accuracy: 0.9881\n",
      "Epoch 42/50\n",
      "1875/1875 [==============================] - 11s 6ms/step - loss: 0.0226 - accuracy: 0.9956 - val_loss: 0.0796 - val_accuracy: 0.9888\n",
      "Epoch 43/50\n",
      "1875/1875 [==============================] - 11s 6ms/step - loss: 0.0202 - accuracy: 0.9958 - val_loss: 0.0739 - val_accuracy: 0.9883\n",
      "Epoch 44/50\n",
      "1875/1875 [==============================] - 11s 6ms/step - loss: 0.0130 - accuracy: 0.9972 - val_loss: 0.0860 - val_accuracy: 0.9884\n",
      "Epoch 45/50\n",
      "1875/1875 [==============================] - 11s 6ms/step - loss: 0.0167 - accuracy: 0.9965 - val_loss: 0.0719 - val_accuracy: 0.9894\n",
      "Epoch 46/50\n",
      "1875/1875 [==============================] - 11s 6ms/step - loss: 0.0083 - accuracy: 0.9983 - val_loss: 0.1432 - val_accuracy: 0.9828\n",
      "Epoch 47/50\n",
      "1875/1875 [==============================] - 11s 6ms/step - loss: 0.0204 - accuracy: 0.9965 - val_loss: 0.0803 - val_accuracy: 0.9892\n",
      "Epoch 48/50\n",
      "1875/1875 [==============================] - 11s 6ms/step - loss: 0.0189 - accuracy: 0.9966 - val_loss: 0.0782 - val_accuracy: 0.9898\n",
      "Epoch 49/50\n",
      "1875/1875 [==============================] - 11s 6ms/step - loss: 0.0116 - accuracy: 0.9972 - val_loss: 0.0611 - val_accuracy: 0.9902\n",
      "Epoch 50/50\n",
      "1875/1875 [==============================] - 11s 6ms/step - loss: 0.0150 - accuracy: 0.9966 - val_loss: 0.0798 - val_accuracy: 0.9900\n"
     ]
    }
   ],
   "source": [
    "history=model.fit(X_train,y_train,epochs=50,validation_data=(X_test,y_test))"
   ]
  },
  {
   "cell_type": "code",
   "execution_count": 8,
   "id": "sorted-thumbnail",
   "metadata": {},
   "outputs": [
    {
     "data": {
      "text/plain": [
       "<matplotlib.legend.Legend at 0x7f55e8074fa0>"
      ]
     },
     "execution_count": 8,
     "metadata": {},
     "output_type": "execute_result"
    },
    {
     "data": {
      "image/png": "[encoded data removed]",
      "text/plain": [
       "<Figure size 432x288 with 1 Axes>"
      ]
     },
     "metadata": {
      "needs_background": "light"
     },
     "output_type": "display_data"
    }
   ],
   "source": [
    "import matplotlib.pyplot as plt\n",
    "\n",
    "plt.plot(history.history['accuracy'])\n",
    "plt.plot(history.history['val_accuracy'])\n",
    "plt.xlabel('Epoch')\n",
    "plt.ylabel('accuracy')\n",
    "plt.legend(['accuracy', 'val_accuracy'],loc='lower right')"
   ]
  },
  {
   "cell_type": "code",
   "execution_count": null,
   "id": "formal-engine",
   "metadata": {},
   "outputs": [],
   "source": []
  },
  {
   "cell_type": "code",
   "execution_count": null,
   "id": "champion-coalition",
   "metadata": {},
   "outputs": [],
   "source": []
  },
  {
   "cell_type": "code",
   "execution_count": null,
   "id": "fabulous-coating",
   "metadata": {},
   "outputs": [],
   "source": []
  }
 ],
 "metadata": {
  "kernelspec": {
   "display_name": "Python 3",
   "language": "python",
   "name": "python3"
  },
  "language_info": {
   "codemirror_mode": {
    "name": "ipython",
    "version": 3
   },
   "file_extension": ".py",
   "mimetype": "text/x-python",
   "name": "python",
   "nbconvert_exporter": "python",
   "pygments_lexer": "ipython3",
   "version": "3.8.8"
  }
 },
 "nbformat": 4,
 "nbformat_minor": 5
}
