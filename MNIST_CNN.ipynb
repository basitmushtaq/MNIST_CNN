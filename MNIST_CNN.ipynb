{
 "cells": [
  {
   "cell_type": "code",
   "execution_count": 1,
   "id": "formal-ridge",
   "metadata": {},
   "outputs": [],
   "source": [
    "import numpy as np\n",
    "import tensorflow as tf\n",
    "from scipy.io import loadmat\n",
    "from sklearn.model_selection import train_test_split\n",
    "import keras"
   ]
  },
  {
   "cell_type": "code",
   "execution_count": 2,
   "id": "favorite-cause",
   "metadata": {},
   "outputs": [],
   "source": [
    "from mnist import MNIST\n",
    "mndata = MNIST('/home/basit/Documents/samples')\n",
    "X_train, y_train = mndata.load_training()\n",
    "X_test, y_test= mndata.load_testing()\n",
    "X_train=np.array(X_train).astype(np.float)\n",
    "X_test=np.array(X_test).astype(np.float)\n",
    "y_train=np.array(y_train).astype(np.float)\n",
    "y_test=np.array(y_test).astype(np.float)"
   ]
  },
  {
   "cell_type": "code",
   "execution_count": 3,
   "id": "documentary-group",
   "metadata": {},
   "outputs": [],
   "source": [
    "#reshaping the data\n",
    "\n",
    "X_train= X_train.reshape(-1,28,28,1)\n",
    "X_test= X_test.reshape(-1,28,28,1)\n",
    "y_train= y_train.reshape(-1,1)\n",
    "y_test= y_test.reshape(-1,1)"
   ]
  },
  {
   "cell_type": "code",
   "execution_count": null,
   "id": "filled-middle",
   "metadata": {},
   "outputs": [],
   "source": []
  },
  {
   "cell_type": "code",
   "execution_count": 4,
   "id": "trying-dependence",
   "metadata": {},
   "outputs": [],
   "source": [
    "from keras import layers, models\n",
    "\n",
    "dropout_rate=0.2\n",
    "\n",
    "model= models.Sequential()\n",
    "\n",
    "model.add(layers.Conv2D(128,(3,3) , activation='relu', input_shape=(28,28,1)))\n",
    "model.add(layers.MaxPooling2D(2,2))\n",
    "model.add(layers.Dropout(dropout_rate))\n",
    "model.add(layers.Conv2D(64,(3,3), activation='relu'))\n",
    "model.add(layers.Conv2D(32,(3,3),activation='relu'))\n",
    "model.add(layers.MaxPooling2D(2,2))\n",
    "#model.add(layers.Dropout(dropout_rate))\n",
    "model.add(layers.Conv2D(16,(3,3), activation='relu'))\n",
    "model.add(layers.MaxPooling2D(2,2))\n",
    "model.add(layers.Dropout(dropout_rate))\n",
    "model.add(layers.Flatten())\n",
    "model.add(layers.Dense(150, activation='relu'))\n",
    "#model.add(layers.Dropout(dropout_rate))\n",
    "model.add(layers.Dense(10,activation='softmax'))\n"
   ]
  },
  {
   "cell_type": "code",
   "execution_count": 5,
   "id": "peripheral-premium",
   "metadata": {},
   "outputs": [
    {
     "name": "stdout",
     "output_type": "stream",
     "text": [
      "Model: \"sequential\"\n",
      "_________________________________________________________________\n",
      "Layer (type)                 Output Shape              Param #   \n",
      "=================================================================\n",
      "conv2d (Conv2D)              (None, 26, 26, 128)       1280      \n",
      "_________________________________________________________________\n",
      "max_pooling2d (MaxPooling2D) (None, 13, 13, 128)       0         \n",
      "_________________________________________________________________\n",
      "dropout (Dropout)            (None, 13, 13, 128)       0         \n",
      "_________________________________________________________________\n",
      "conv2d_1 (Conv2D)            (None, 11, 11, 64)        73792     \n",
      "_________________________________________________________________\n",
      "conv2d_2 (Conv2D)            (None, 9, 9, 32)          18464     \n",
      "_________________________________________________________________\n",
      "max_pooling2d_1 (MaxPooling2 (None, 4, 4, 32)          0         \n",
      "_________________________________________________________________\n",
      "conv2d_3 (Conv2D)            (None, 2, 2, 16)          4624      \n",
      "_________________________________________________________________\n",
      "max_pooling2d_2 (MaxPooling2 (None, 1, 1, 16)          0         \n",
      "_________________________________________________________________\n",
      "dropout_1 (Dropout)          (None, 1, 1, 16)          0         \n",
      "_________________________________________________________________\n",
      "flatten (Flatten)            (None, 16)                0         \n",
      "_________________________________________________________________\n",
      "dense (Dense)                (None, 150)               2550      \n",
      "_________________________________________________________________\n",
      "dense_1 (Dense)              (None, 10)                1510      \n",
      "=================================================================\n",
      "Total params: 102,220\n",
      "Trainable params: 102,220\n",
      "Non-trainable params: 0\n",
      "_________________________________________________________________\n"
     ]
    }
   ],
   "source": [
    "model.summary()"
   ]
  },
  {
   "cell_type": "code",
   "execution_count": 6,
   "id": "caring-entrepreneur",
   "metadata": {},
   "outputs": [],
   "source": [
    "model.compile(optimizer='adam', loss=keras.losses.SparseCategoricalCrossentropy(),metrics='accuracy')"
   ]
  },
  {
   "cell_type": "code",
   "execution_count": 7,
   "id": "circular-czech",
   "metadata": {},
   "outputs": [
    {
     "name": "stdout",
     "output_type": "stream",
     "text": [
      "Epoch 1/50\n",
      "1875/1875 [==============================] - 13s 6ms/step - loss: 1.4051 - accuracy: 0.5157 - val_loss: 0.1196 - val_accuracy: 0.9669\n",
      "Epoch 2/50\n",
      "1875/1875 [==============================] - 12s 6ms/step - loss: 0.2304 - accuracy: 0.9285 - val_loss: 0.0755 - val_accuracy: 0.9795\n",
      "Epoch 3/50\n",
      "1875/1875 [==============================] - 11s 6ms/step - loss: 0.1497 - accuracy: 0.9533 - val_loss: 0.0645 - val_accuracy: 0.9818\n",
      "Epoch 4/50\n",
      "1875/1875 [==============================] - 11s 6ms/step - loss: 0.1164 - accuracy: 0.9657 - val_loss: 0.0582 - val_accuracy: 0.9837\n",
      "Epoch 5/50\n",
      "1875/1875 [==============================] - 11s 6ms/step - loss: 0.1062 - accuracy: 0.9691 - val_loss: 0.0608 - val_accuracy: 0.9844\n",
      "Epoch 6/50\n",
      "1875/1875 [==============================] - 12s 6ms/step - loss: 0.0879 - accuracy: 0.9734 - val_loss: 0.0539 - val_accuracy: 0.9868\n",
      "Epoch 7/50\n",
      "1875/1875 [==============================] - 11s 6ms/step - loss: 0.0877 - accuracy: 0.9734 - val_loss: 0.0483 - val_accuracy: 0.9871\n",
      "Epoch 8/50\n",
      "1875/1875 [==============================] - 11s 6ms/step - loss: 0.0810 - accuracy: 0.9771 - val_loss: 0.0496 - val_accuracy: 0.9854\n",
      "Epoch 9/50\n",
      "1875/1875 [==============================] - 11s 6ms/step - loss: 0.0788 - accuracy: 0.9770 - val_loss: 0.0387 - val_accuracy: 0.9895\n",
      "Epoch 10/50\n",
      "1875/1875 [==============================] - 11s 6ms/step - loss: 0.0769 - accuracy: 0.9768 - val_loss: 0.0485 - val_accuracy: 0.9875\n",
      "Epoch 11/50\n",
      "1875/1875 [==============================] - 11s 6ms/step - loss: 0.0686 - accuracy: 0.9799 - val_loss: 0.0389 - val_accuracy: 0.9887\n",
      "Epoch 12/50\n",
      "1875/1875 [==============================] - 11s 6ms/step - loss: 0.0722 - accuracy: 0.9793 - val_loss: 0.0331 - val_accuracy: 0.9904\n",
      "Epoch 13/50\n",
      "1875/1875 [==============================] - 11s 6ms/step - loss: 0.0685 - accuracy: 0.9794 - val_loss: 0.0462 - val_accuracy: 0.9872\n",
      "Epoch 14/50\n",
      "1875/1875 [==============================] - 11s 6ms/step - loss: 0.0632 - accuracy: 0.9818 - val_loss: 0.0448 - val_accuracy: 0.9879\n",
      "Epoch 15/50\n",
      "1875/1875 [==============================] - 11s 6ms/step - loss: 0.0621 - accuracy: 0.9825 - val_loss: 0.0431 - val_accuracy: 0.9878\n",
      "Epoch 16/50\n",
      "1875/1875 [==============================] - 11s 6ms/step - loss: 0.0656 - accuracy: 0.9820 - val_loss: 0.0362 - val_accuracy: 0.9897\n",
      "Epoch 17/50\n",
      "1875/1875 [==============================] - 11s 6ms/step - loss: 0.0648 - accuracy: 0.9825 - val_loss: 0.0420 - val_accuracy: 0.9882\n",
      "Epoch 18/50\n",
      "1875/1875 [==============================] - 11s 6ms/step - loss: 0.0640 - accuracy: 0.9830 - val_loss: 0.0405 - val_accuracy: 0.9884\n",
      "Epoch 19/50\n",
      "1875/1875 [==============================] - 11s 6ms/step - loss: 0.0603 - accuracy: 0.9832 - val_loss: 0.0380 - val_accuracy: 0.9899\n",
      "Epoch 20/50\n",
      "1875/1875 [==============================] - 11s 6ms/step - loss: 0.0579 - accuracy: 0.9828 - val_loss: 0.0404 - val_accuracy: 0.9892\n",
      "Epoch 21/50\n",
      "1875/1875 [==============================] - 11s 6ms/step - loss: 0.0600 - accuracy: 0.9843 - val_loss: 0.0399 - val_accuracy: 0.9890\n",
      "Epoch 22/50\n",
      "1875/1875 [==============================] - 12s 6ms/step - loss: 0.0559 - accuracy: 0.9843 - val_loss: 0.0438 - val_accuracy: 0.9864\n",
      "Epoch 23/50\n",
      "1875/1875 [==============================] - 11s 6ms/step - loss: 0.0565 - accuracy: 0.9839 - val_loss: 0.0601 - val_accuracy: 0.9835\n",
      "Epoch 24/50\n",
      "1875/1875 [==============================] - 11s 6ms/step - loss: 0.0584 - accuracy: 0.9833 - val_loss: 0.0378 - val_accuracy: 0.9895\n",
      "Epoch 25/50\n",
      "1875/1875 [==============================] - 11s 6ms/step - loss: 0.0502 - accuracy: 0.9855 - val_loss: 0.0497 - val_accuracy: 0.9859\n",
      "Epoch 26/50\n",
      "1875/1875 [==============================] - 11s 6ms/step - loss: 0.0559 - accuracy: 0.9845 - val_loss: 0.0459 - val_accuracy: 0.9879\n",
      "Epoch 27/50\n",
      "1875/1875 [==============================] - 11s 6ms/step - loss: 0.0489 - accuracy: 0.9870 - val_loss: 0.0480 - val_accuracy: 0.9872\n",
      "Epoch 28/50\n",
      "1875/1875 [==============================] - 12s 6ms/step - loss: 0.0542 - accuracy: 0.9846 - val_loss: 0.0481 - val_accuracy: 0.9877\n",
      "Epoch 29/50\n",
      "1875/1875 [==============================] - 11s 6ms/step - loss: 0.0559 - accuracy: 0.9842 - val_loss: 0.0458 - val_accuracy: 0.9883\n",
      "Epoch 30/50\n",
      "1875/1875 [==============================] - 11s 6ms/step - loss: 0.0493 - accuracy: 0.9861 - val_loss: 0.0428 - val_accuracy: 0.9875\n",
      "Epoch 31/50\n",
      "1875/1875 [==============================] - 12s 6ms/step - loss: 0.0541 - accuracy: 0.9851 - val_loss: 0.0426 - val_accuracy: 0.9885\n",
      "Epoch 32/50\n",
      "1875/1875 [==============================] - 11s 6ms/step - loss: 0.0542 - accuracy: 0.9850 - val_loss: 0.0464 - val_accuracy: 0.9871\n",
      "Epoch 33/50\n",
      "1875/1875 [==============================] - 11s 6ms/step - loss: 0.0495 - accuracy: 0.9861 - val_loss: 0.0424 - val_accuracy: 0.9886\n",
      "Epoch 34/50\n",
      "1875/1875 [==============================] - 11s 6ms/step - loss: 0.0531 - accuracy: 0.9854 - val_loss: 0.0379 - val_accuracy: 0.9889\n",
      "Epoch 35/50\n",
      "1875/1875 [==============================] - 12s 6ms/step - loss: 0.0526 - accuracy: 0.9849 - val_loss: 0.0436 - val_accuracy: 0.9880\n",
      "Epoch 36/50\n",
      "1875/1875 [==============================] - 12s 6ms/step - loss: 0.0528 - accuracy: 0.9856 - val_loss: 0.0386 - val_accuracy: 0.9901\n",
      "Epoch 37/50\n",
      "1875/1875 [==============================] - 12s 6ms/step - loss: 0.0537 - accuracy: 0.9856 - val_loss: 0.0403 - val_accuracy: 0.9888\n",
      "Epoch 38/50\n",
      "1875/1875 [==============================] - 12s 6ms/step - loss: 0.0469 - accuracy: 0.9872 - val_loss: 0.0441 - val_accuracy: 0.9875\n",
      "Epoch 39/50\n",
      "1875/1875 [==============================] - 12s 6ms/step - loss: 0.0556 - accuracy: 0.9848 - val_loss: 0.0328 - val_accuracy: 0.9905\n",
      "Epoch 40/50\n",
      "1875/1875 [==============================] - 12s 6ms/step - loss: 0.0481 - accuracy: 0.9869 - val_loss: 0.0438 - val_accuracy: 0.9885\n",
      "Epoch 41/50\n",
      "1875/1875 [==============================] - 12s 6ms/step - loss: 0.0503 - accuracy: 0.9861 - val_loss: 0.0519 - val_accuracy: 0.9856\n",
      "Epoch 42/50\n",
      "1875/1875 [==============================] - 12s 6ms/step - loss: 0.0522 - accuracy: 0.9855 - val_loss: 0.0525 - val_accuracy: 0.9873\n",
      "Epoch 43/50\n",
      "1875/1875 [==============================] - 12s 6ms/step - loss: 0.0572 - accuracy: 0.9848 - val_loss: 0.0446 - val_accuracy: 0.9890\n",
      "Epoch 44/50\n",
      "1875/1875 [==============================] - 12s 6ms/step - loss: 0.0521 - accuracy: 0.9865 - val_loss: 0.0472 - val_accuracy: 0.9876\n",
      "Epoch 45/50\n",
      "1875/1875 [==============================] - 12s 6ms/step - loss: 0.0494 - accuracy: 0.9871 - val_loss: 0.0416 - val_accuracy: 0.9880\n",
      "Epoch 46/50\n",
      "1875/1875 [==============================] - 12s 6ms/step - loss: 0.0485 - accuracy: 0.9871 - val_loss: 0.0444 - val_accuracy: 0.9897\n",
      "Epoch 47/50\n",
      "1875/1875 [==============================] - 12s 6ms/step - loss: 0.0459 - accuracy: 0.9872 - val_loss: 0.0448 - val_accuracy: 0.9884\n",
      "Epoch 48/50\n",
      "1875/1875 [==============================] - 12s 6ms/step - loss: 0.0508 - accuracy: 0.9866 - val_loss: 0.0400 - val_accuracy: 0.9893\n",
      "Epoch 49/50\n",
      "1875/1875 [==============================] - 12s 6ms/step - loss: 0.0464 - accuracy: 0.9882 - val_loss: 0.0432 - val_accuracy: 0.9891\n",
      "Epoch 50/50\n",
      "1875/1875 [==============================] - 12s 6ms/step - loss: 0.0473 - accuracy: 0.9871 - val_loss: 0.0582 - val_accuracy: 0.9861\n"
     ]
    }
   ],
   "source": [
    "history=model.fit(X_train,y_train,epochs=50,validation_data=(X_test,y_test))"
   ]
  },
  {
   "cell_type": "code",
   "execution_count": 8,
   "id": "sorted-thumbnail",
   "metadata": {},
   "outputs": [
    {
     "data": {
      "text/plain": [
       "<matplotlib.legend.Legend at 0x7fed90029df0>"
      ]
     },
     "execution_count": 8,
     "metadata": {},
     "output_type": "execute_result"
    },
    {
     "data": {
      "image/png": "[encoded data removed]",
      "text/plain": [
       "<Figure size 432x288 with 1 Axes>"
      ]
     },
     "metadata": {
      "needs_background": "light"
     },
     "output_type": "display_data"
    }
   ],
   "source": [
    "import matplotlib.pyplot as plt\n",
    "\n",
    "plt.plot(history.history['accuracy'])\n",
    "plt.plot(history.history['val_accuracy'])\n",
    "plt.xlabel('Epoch')\n",
    "plt.ylabel('accuracy')\n",
    "plt.legend(['accuracy', 'val_accuracy'],loc='lower right')"
   ]
  },
  {
   "cell_type": "code",
   "execution_count": null,
   "id": "formal-engine",
   "metadata": {},
   "outputs": [],
   "source": []
  },
  {
   "cell_type": "code",
   "execution_count": null,
   "id": "champion-coalition",
   "metadata": {},
   "outputs": [],
   "source": []
  },
  {
   "cell_type": "code",
   "execution_count": null,
   "id": "fabulous-coating",
   "metadata": {},
   "outputs": [],
   "source": []
  }
 ],
 "metadata": {
  "kernelspec": {
   "display_name": "Python 3",
   "language": "python",
   "name": "python3"
  },
  "language_info": {
   "codemirror_mode": {
    "name": "ipython",
    "version": 3
   },
   "file_extension": ".py",
   "mimetype": "text/x-python",
   "name": "python",
   "nbconvert_exporter": "python",
   "pygments_lexer": "ipython3",
   "version": "3.8.8"
  }
 },
 "nbformat": 4,
 "nbformat_minor": 5
}
